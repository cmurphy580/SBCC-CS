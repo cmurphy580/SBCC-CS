{
 "cells": [
  {
   "cell_type": "markdown",
   "metadata": {},
   "source": [
    "# Causes of Death Assignment #\n",
    "\n",
    "We are going to look at the leading causes of death in the US using data from the CDC. **NCHS - Leading Causes of Death: United States** This dataset is detailed on [the healthdata.gov web page](https://healthdata.gov/dataset/nchs-leading-causes-death-united-states).\n",
    "\n",
    "The datafile is a CSV file located at: https://data.cdc.gov/api/views/bi63-dtpu/rows.csv?accessType=DOWNLOAD\n",
    "\n",
    "I want you to answer a couple of questions using this data.\n",
    "\n",
    "1. Figure out the leading cause of death in the United States for the year 2016.\n",
    "2. Which state had the highest rate of death from that cause in 2016.\n",
    "3. Plot the *Age-adjusted Death Rate* for the leading cause of death in California from 2000 - 2016.\n",
    "\n",
    "You should answer these questions explicitly in the JupyterLab as well as have any code you need present. Don't create a separate code document. Note that the *Age-adjusted Death Rate* is the rate of death per 100,000 people."
   ]
  },
  {
   "cell_type": "code",
   "execution_count": 1,
   "metadata": {},
   "outputs": [],
   "source": [
    "import pandas as pd\n",
    "import numpy as np\n",
    "import matplotlib.pyplot as plt"
   ]
  },
  {
   "cell_type": "markdown",
   "metadata": {},
   "source": [
    "You might want to look at the [10 minutes to pandas](https://pandas.pydata.org/pandas-docs/stable/10min.html) example. This has some good ideas on how to do selection of data."
   ]
  },
  {
   "cell_type": "code",
   "execution_count": null,
   "metadata": {},
   "outputs": [],
   "source": []
  }
 ],
 "metadata": {
  "kernelspec": {
   "display_name": "Python 3",
   "language": "python",
   "name": "python3"
  },
  "language_info": {
   "codemirror_mode": {
    "name": "ipython",
    "version": 3
   },
   "file_extension": ".py",
   "mimetype": "text/x-python",
   "name": "python",
   "nbconvert_exporter": "python",
   "pygments_lexer": "ipython3",
   "version": "3.7.0"
  }
 },
 "nbformat": 4,
 "nbformat_minor": 2
}
