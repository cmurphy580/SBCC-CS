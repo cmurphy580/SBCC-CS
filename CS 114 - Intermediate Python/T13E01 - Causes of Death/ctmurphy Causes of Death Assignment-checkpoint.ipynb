{
 "cells": [
  {
   "cell_type": "markdown",
   "metadata": {},
   "source": [
    "# Causes of Death Assignment #\n",
    "\n",
    "We are going to look at the leading causes of death in the US using data from the CDC. **NCHS - Leading Causes of Death: United States** This dataset is detailed on [the healthdata.gov web page](https://healthdata.gov/dataset/nchs-leading-causes-death-united-states).\n",
    "\n",
    "The datafile is a CSV file located at: https://data.cdc.gov/api/views/bi63-dtpu/rows.csv?accessType=DOWNLOAD\n",
    "\n",
    "I want you to answer a couple of questions using this data.\n",
    "\n",
    "1. Figure out the leading cause of death in the United States for the year 2016.\n",
    "2. Which state had the highest rate of death from that cause in 2016.\n",
    "3. Plot the *Age-adjusted Death Rate* for the leading cause of death in California from 2000 - 2016.\n",
    "\n",
    "You should answer these questions explicitly in the JupyterLab as well as have any code you need present. Don't create a separate code document. Note that the *Age-adjusted Death Rate* is the rate of death per 100,000 people."
   ]
  },
  {
   "cell_type": "code",
   "execution_count": 30,
   "metadata": {},
   "outputs": [],
   "source": [
    "import pandas as pd\n",
    "import numpy as np\n",
    "import matplotlib.pyplot as plt"
   ]
  },
  {
   "cell_type": "markdown",
   "metadata": {},
   "source": [
    "You might want to look at the [10 minutes to pandas](https://pandas.pydata.org/pandas-docs/stable/10min.html) example. This has some good ideas on how to do selection of data."
   ]
  },
  {
   "cell_type": "code",
   "execution_count": 31,
   "metadata": {},
   "outputs": [],
   "source": [
    "data = pd.read_csv('https://data.cdc.gov/api/views/bi63-dtpu/rows.csv?accessType=DOWNLOAD')\n",
    "data_2016 = data[data.Year == 2016]"
   ]
  },
  {
   "cell_type": "code",
   "execution_count": 32,
   "metadata": {},
   "outputs": [],
   "source": [
    "# 1 Leading cause of deaths\n",
    "deaths = data_2016.sort_values(by=\"Deaths\", ascending=False)\n",
    "# print(deaths)\n",
    "\n",
    "# filter for that cause\n",
    "heart_deaths = data_2016.loc[data_2016[\"Cause Name\"] == \"Heart disease\"]"
   ]
  },
  {
   "cell_type": "code",
   "execution_count": 33,
   "metadata": {},
   "outputs": [],
   "source": [
    "# sort by number of deaths\n",
    "heart_deaths = heart_deaths.sort_values(by=\"Deaths\", ascending=False)\n",
    "\n",
    "# sort by Age-adjusted Death Rate\n",
    "sorted_heart_deaths = heart_deaths.sort_values(by=\"Age-adjusted Death Rate\", ascending=False)"
   ]
  },
  {
   "cell_type": "code",
   "execution_count": 34,
   "metadata": {},
   "outputs": [
    {
     "data": {
      "text/plain": [
       "Year                                                              2016\n",
       "113 Cause Name             Diseases of heart (I00-I09,I11,I13,I20-I51)\n",
       "Cause Name                                               Heart disease\n",
       "State                                                      Mississippi\n",
       "Deaths                                                            7865\n",
       "Age-adjusted Death Rate                                          233.1\n",
       "Name: 5164, dtype: object"
      ]
     },
     "execution_count": 34,
     "metadata": {},
     "output_type": "execute_result"
    }
   ],
   "source": [
    "# 2\n",
    "# state with most deaths by that cause (answer = Mississippi)\n",
    "state_with_most_deaths = sorted_heart_deaths.iloc[0]\n",
    "state_with_most_deaths"
   ]
  },
  {
   "cell_type": "code",
   "execution_count": 35,
   "metadata": {},
   "outputs": [],
   "source": [
    "# 3 - get the data\n",
    "# get data for CA\n",
    "CA_data = data.loc[data[\"State\"] == \"California\"]\n",
    "\n",
    "# heart disease\n",
    "CA_data = CA_data.loc[CA_data[\"Cause Name\"] == \"Heart disease\"]\n",
    "\n",
    "# [2000, 2016]\n",
    "CA_data = CA_data.loc[CA_data[\"Year\"] >= 2000].sort_values(by=\"Year\")"
   ]
  },
  {
   "cell_type": "code",
   "execution_count": 36,
   "metadata": {},
   "outputs": [
    {
     "data": {
      "image/png": "[encoded data removed]",
      "text/plain": [
       "<Figure size 432x288 with 1 Axes>"
      ]
     },
     "metadata": {
      "needs_background": "light"
     },
     "output_type": "display_data"
    }
   ],
   "source": [
    "# 3 - plot the data\n",
    "# x coordinates years 2000-2016\n",
    "x = [x for x in range(2000, 2017)]\n",
    "\n",
    "# y coordinates number of deaths for corresponding year\n",
    "y = [y for y in CA_data[\"Age-adjusted Death Rate\"]]\n",
    "\n",
    "# plot the graph using matplotlib.pyplot\n",
    "plt.plot(x,y)\n",
    "plt.ylim(0,300)\n",
    "plt.show()"
   ]
  }
 ],
 "metadata": {
  "kernelspec": {
   "display_name": "Python 3",
   "language": "python",
   "name": "python3"
  },
  "language_info": {
   "codemirror_mode": {
    "name": "ipython",
    "version": 3
   },
   "file_extension": ".py",
   "mimetype": "text/x-python",
   "name": "python",
   "nbconvert_exporter": "python",
   "pygments_lexer": "ipython3",
   "version": "3.7.0"
  }
 },
 "nbformat": 4,
 "nbformat_minor": 2
}
